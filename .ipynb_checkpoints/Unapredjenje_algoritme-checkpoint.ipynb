{
 "cells": [
  {
   "cell_type": "markdown",
   "metadata": {},
   "source": [
    "# SVD\n",
    "## Opis\n",
    "Jedna od najkorisnijih dekompozicija je dekompozicija singularnih vrednosti (SVD - <i>singular value decomposition</i>). Ona nam pruža mogućnost rešavanja ili razumevanja problema koji su definisani sistemima jednačina zasnovanih na sigularnim ili blisko singularnim matricama. Dok druge metode ne pokazuju dobre rezultate u tim slučajevima.<br />\n",
    "Ovaj metod ima široku primenu: \n",
    "1. rešavanje linearnih jednačina, \n",
    "2. za kompresiju podataka, u algoritmu za preporučivanje, \n",
    "3. za konstrukciju frekvencije reči u dokumentima, \n",
    "4. za računanje $2-norme$ itd."
   ]
  },
  {
   "cell_type": "markdown",
   "metadata": {},
   "source": [
    "Ne zahteva da matrica $A$ koju faktorišemo bude kvadratna.\n",
    "Za $A$ dimenzija $p \\times q$ postoji ortogonalna matrica $U$ dimenzija $p \\times p$, dijagonalna matrica $\\Sigma$ dimenzija $p \\times q$ i ortogonalna matrica $V$ dimenzija $q \\times q$\n",
    "$$A=U \\Sigma V^T$$\n",
    "Predstavlja formulu SVD, međutim moguće je predstaviti je i sledećom formulom:\n",
    "$$X=U' \\Sigma' V^T$$\n",
    "gde su $U$ dimenzija $p \\times q$, $\\Sigma$ dimenzija $q \\times q$ i $V$ dimenzija $q \\times q$. Ovakva formula predstavlja tanku SVD.\n",
    "<br />Sledeća slika ilistruje formule.\n",
    "![svd.png](svd.png)\n",
    "<br />\n",
    "$\\Sigma$ se u računarstvu najčešće posmatra kao vektor dužine $q$, a formula može biti predstavljena kao suma matrica ranka-1 $\\sum_{i}u_{i}\\sigma_{i}v_{i}^T$, gde $\\sigma_{i}$ predstavljaju singularne vrednosti (sa diagonale $\\Sigma$ ), $u_{i}$ i $v_{i}$ su singularni vektori odnosno kolone $U$ i $V$\n",
    "![svd-suma.png](svd-suma.png)\n",
    "<br />\n",
    "Važi da su:\n",
    "1. Kolone matrice $U$ su sopstveni vektori $AA^T$ - levi singularni vektori matrice $A$\n",
    "2. Kolone matrice $V$ su sopstveni vektori $A^TA$ - desni singularni vektori matrice $A$\n",
    "3. Dijagonalni elementi $\\Sigma$ - singularne vrednosti matrice $A$\n",
    "4. Rang matrice A je broj $\\sigma _i<>0$"
   ]
  },
  {
   "cell_type": "markdown",
   "metadata": {},
   "source": [
    "Na osnovu prethodnog lako se može doći do sledećih formula:\n",
    "<br />\n",
    "$A^TA=V\\Sigma^TU^TU\\Sigma V^T=V\\Sigma^T\\Sigma V^T$\n",
    "<br />\n",
    "$AV=U\\Sigma$\n",
    "<br />\n",
    "$det(A^TA-\\lambda I)=0$ odavde je moguće izračunati $V$ i $\\Sigma$, a zatim uvrštavanjem u prethodnu formulu i $U$"
   ]
  },
  {
   "cell_type": "code",
   "execution_count": 21,
   "metadata": {},
   "outputs": [
    {
     "ename": "SyntaxError",
     "evalue": "invalid syntax (<ipython-input-21-a2fd20c22380>, line 6)",
     "output_type": "error",
     "traceback": [
      "\u001b[1;36m  File \u001b[1;32m\"<ipython-input-21-a2fd20c22380>\"\u001b[1;36m, line \u001b[1;32m6\u001b[0m\n\u001b[1;33m    B = [a for a in A if np.abs(a)>3 else 0]\u001b[0m\n\u001b[1;37m                                        ^\u001b[0m\n\u001b[1;31mSyntaxError\u001b[0m\u001b[1;31m:\u001b[0m invalid syntax\n"
     ]
    }
   ],
   "source": [
    "import numpy as np \n",
    "import numpy.random as rnd\n",
    "import sklearn.datasets as ds\n",
    "\n",
    "A=ds.make_low_rank_matrix(n_samples=10, n_features=10, effective_rank=4, tail_strength=0.0001, random_state=0)\n",
    "B = [a for a in A if np.abs(a)>3 else 0]\n",
    "A, A.shape, np.count_nonzero(A)\n"
   ]
  },
  {
   "cell_type": "code",
   "execution_count": 23,
   "metadata": {},
   "outputs": [
    {
     "name": "stdout",
     "output_type": "stream",
     "text": [
      "[[-0.29150126 -0.43954828  0.37169658 -0.76398036]\n",
      " [-0.43807129 -0.43585658 -0.78539221  0.03580033]\n",
      " [-0.28073796  0.77514628 -0.29558342 -0.48266436]\n",
      " [-0.80268721  0.12639064  0.39702793  0.42671708]] [17.41285951  4.44700622  1.30795466  0.5529139 ] [[-0.49550824 -0.454846   -0.51481542 -0.531556  ]\n",
      " [ 0.67761269  0.32816765 -0.41332234 -0.51216373]\n",
      " [-0.52234351  0.81428969 -0.2509714   0.03321015]\n",
      " [-0.14989959  0.14951056  0.7079146  -0.67382017]]\n"
     ]
    },
    {
     "ename": "NameError",
     "evalue": "name 'svd_update' is not defined",
     "output_type": "error",
     "traceback": [
      "\u001b[1;31m---------------------------------------------------------------------------\u001b[0m",
      "\u001b[1;31mNameError\u001b[0m                                 Traceback (most recent call last)",
      "\u001b[1;32m<ipython-input-23-97bbecf29be2>\u001b[0m in \u001b[0;36m<module>\u001b[1;34m\u001b[0m\n\u001b[0;32m      3\u001b[0m \u001b[0mprint\u001b[0m\u001b[1;33m(\u001b[0m\u001b[0mU\u001b[0m\u001b[1;33m,\u001b[0m\u001b[0ms\u001b[0m\u001b[1;33m,\u001b[0m\u001b[0mV\u001b[0m\u001b[1;33m)\u001b[0m\u001b[1;33m\u001b[0m\u001b[1;33m\u001b[0m\u001b[0m\n\u001b[0;32m      4\u001b[0m \u001b[0ma\u001b[0m \u001b[1;33m=\u001b[0m \u001b[0mnp\u001b[0m\u001b[1;33m.\u001b[0m\u001b[0mreshape\u001b[0m\u001b[1;33m(\u001b[0m\u001b[0mnp\u001b[0m\u001b[1;33m.\u001b[0m\u001b[0marray\u001b[0m\u001b[1;33m(\u001b[0m\u001b[1;33m[\u001b[0m\u001b[1;36m4.0\u001b[0m\u001b[1;33m,\u001b[0m\u001b[1;36m5.0\u001b[0m\u001b[1;33m,\u001b[0m\u001b[1;36m1.0\u001b[0m\u001b[1;33m,\u001b[0m\u001b[1;36m7.0\u001b[0m\u001b[1;33m]\u001b[0m\u001b[1;33m)\u001b[0m\u001b[1;33m,\u001b[0m \u001b[1;33m(\u001b[0m\u001b[1;33m-\u001b[0m\u001b[1;36m1\u001b[0m\u001b[1;33m,\u001b[0m \u001b[1;36m1\u001b[0m\u001b[1;33m)\u001b[0m\u001b[1;33m)\u001b[0m\u001b[1;33m\u001b[0m\u001b[1;33m\u001b[0m\u001b[0m\n\u001b[1;32m----> 5\u001b[1;33m \u001b[0mU\u001b[0m\u001b[1;33m,\u001b[0m \u001b[0mS\u001b[0m\u001b[1;33m,\u001b[0m \u001b[0mV\u001b[0m \u001b[1;33m=\u001b[0m \u001b[0msvd_update\u001b[0m\u001b[1;33m(\u001b[0m\u001b[0mU\u001b[0m\u001b[1;33m,\u001b[0m \u001b[0mnp\u001b[0m\u001b[1;33m.\u001b[0m\u001b[0mdiag\u001b[0m\u001b[1;33m(\u001b[0m\u001b[0ms\u001b[0m\u001b[1;33m)\u001b[0m\u001b[1;33m,\u001b[0m \u001b[0mV\u001b[0m\u001b[1;33m,\u001b[0m \u001b[0mX\u001b[0m\u001b[1;33m,\u001b[0m \u001b[0ma\u001b[0m\u001b[1;33m,\u001b[0m \u001b[0mupdate\u001b[0m \u001b[1;33m=\u001b[0m \u001b[1;32mTrue\u001b[0m\u001b[1;33m)\u001b[0m\u001b[1;33m\u001b[0m\u001b[1;33m\u001b[0m\u001b[0m\n\u001b[0m",
      "\u001b[1;31mNameError\u001b[0m: name 'svd_update' is not defined"
     ]
    }
   ],
   "source": [
    "X = np.array([[1.0,2.0,3.0,4.0],[3.0,2.0,5.0,5.0],[5.0,3.0,1.0,1.0],[7.0,7.0,7.0,7.0]])\n",
    "U, s, V = np.linalg.svd(X, full_matrices = False)\n",
    "print(U,s,V)\n",
    "a = np.reshape(np.array([4.0,5.0,1.0,7.0]), (-1, 1))\n",
    "U, S, V = svd_update(U, np.diag(s), V, X, a, update = True)\n",
    "print(U, S, V)"
   ]
  },
  {
   "cell_type": "code",
   "execution_count": 15,
   "metadata": {
    "scrolled": false
   },
   "outputs": [
    {
     "name": "stdout",
     "output_type": "stream",
     "text": [
      "[1.         0.96098353 0.85323025 0.70011721 0.53125066 0.37324902\n",
      " 0.24342769 0.14814342 0.08505313 0.04712496 0.02631979 0.01585317\n",
      " 0.01098588 0.00885815 0.00794757 0.00753036 0.00729685 0.00712715\n",
      " 0.00697909 0.00683914 0.00670331 0.00657049 0.00644037 0.00631284\n",
      " 0.00618783]\n"
     ]
    }
   ],
   "source": [
    "(U,S,V) = np.linalg.svd( X , full_matrices=True )\n",
    "print(U,S,V)"
   ]
  },
  {
   "cell_type": "markdown",
   "metadata": {},
   "source": [
    "# Unapređenja algoritma\n",
    "#### Složenost izračunavanja\n",
    "Izračunavanje potpune singularne dekompozicije je računarski izuzetno zahtevno i potrebno je $\\Theta(pq^2)$ operacija. Cilj je komplseksnost smanjiti na $O(pqr)$. Jako brzo nakon pojavljivanja računara i praktičnog SVD algoritma počelo tragati za efikasnijim metodima. Tako je nastala tanka SVD modifikacija i slične metode koje su se odnosile na promenu podataka u matrici.\n",
    "<br />\n",
    "#### Predlaganje unapređenja\n",
    "Ovim naučnim radom se predlažu sledeće modifikacije i unapređenja:\n",
    "1. modifikacije sabiranja,\n",
    "2. rank-1 modifikacije,\n",
    "3. modifikacije proširene tanke SVD u lineranom vremenu"
   ]
  },
  {
   "cell_type": "markdown",
   "metadata": {},
   "source": [
    "### Moguća redukcija\n",
    "Ukoliko pretpostavimo da je redosled vrednosti $\\sigma_{i}$ u neopadajućem poretku možemo eliminisati male vrednosti tako da ogranicimo $i < r < q$.<br />\n",
    "Tada je $U$ dimenzija $p \\times r$, $\\sigma$ vektor dimenzije $r$ i $V$ dimenzija $r \\times r$ i ovim smo dobili tanku SVD ranka-r."
   ]
  },
  {
   "cell_type": "markdown",
   "metadata": {},
   "source": []
  },
  {
   "cell_type": "markdown",
   "metadata": {
    "collapsed": true
   },
   "source": [
    "## Modifikacija sabiranja\n",
    "#### Problem\n",
    "Ako je $X=USV^T$ onda za sabiranje želimo da postavimo modifikaciju tako da: $X+AB^T=$$\\begin{bmatrix}U & A\\end{bmatrix}$$ $$\\begin{bmatrix} S & 0 \\\\ 0 & I \\end{bmatrix}$$ $$\\begin{bmatrix} V && B \\end{bmatrix}$$^T$. U slučaju kad je $rank(X+AB^T) \\leqslant r+c<min(p,q)$, matrice $U, V, A, B$ su visoke tanke.\n",
    "\n",
    "Dalje ako je $P$ ortogonalna baza $(I-UU^T)A$ i $R_A=P^T(I-UU^T)A$ onda\n",
    "\n",
    "$ $$\\begin{bmatrix}U & A\\end{bmatrix}$$ = $$\\begin{bmatrix} U & P\\end{bmatrix}$$ $$\\begin{bmatrix}I & U^TA \\\\ 0 & R_A\\end{bmatrix}$$ $\n",
    "\n",
    "Slično je za $QR_B=(I-VV^T)B$.\n",
    "\n",
    "Kombinacijom ovih formula dobijamo $X+AB^T=$$\\begin{bmatrix}U & P\\end{bmatrix}$$ K $$\\begin{bmatrix}V & Q\\end{bmatrix}$$^T$\n",
    "\n",
    "\n",
    "\n",
    "Nas interesuje unapređenje SVD algoritma tako za da već izračunatu dekompoziciju $U,S,V$ ne računamo ponovo SVD za promene nad $X$.<br /> Znači problem je sledeći: za izracunate $U,S,V$ od $X$ treba rešiti $X+AB^T$ gde su $A$ i $B$ matrice ranka $c$, odnosno dimenzija $p \\times c$ i $q \\times c$. <br />\n",
    "Modifikacijama se dolazi se do formule:\n",
    "$$X + AB^T = ([U,P]U')S'([V,Q]V')^T$$\n",
    "Svođenjem na modifikacije ranka-1 rešava se $X+ab^T$ gde su $a$ i $b$ vektori $p \\times 1$. <br />\n",
    "<i>Indukcijom se ovim metodom može izgraditi cela SVD od 0.</i>"
   ]
  },
  {
   "cell_type": "markdown",
   "metadata": {
    "collapsed": true
   },
   "source": [
    "Operacije koje primenjujemo prema algoritmu su:\n",
    "\n",
    "Za dodavanje:\n",
    "$a=c, b^T=[0,0,...,1]$\n",
    "\n",
    "Za umanjivanje:\n",
    "$a=X[:,-1], b^T=[0,0,...,1]$\n",
    "\n",
    "Za preispitivanje:\n",
    "$a=X[:,-1]-c, b^T=[0,0,...,1]$\n",
    "\n",
    "Za ponovno centriranje:\n",
    "$a=X*(I-(1/q)ll^T), l^T=[1,1,...,1]$\n",
    "![modifications](rank-1.png)"
   ]
  },
  {
   "cell_type": "code",
   "execution_count": 3,
   "metadata": {
    "collapsed": true
   },
   "outputs": [],
   "source": [
    "def svd_upd(V, c):\n",
    "    #prosirujemo V\n",
    "    #V = np.vstack([V, np.zeros(V.shape[1])])\n",
    "    #kreiramo b i punimo 0\n",
    "    b = np.zeros(V.shape[0])\n",
    "    #dodajemo 1 na kraj\n",
    "    b[-1] = 1\n",
    "    #transponujemo\n",
    "    b = np.reshape(b, (b.shape[0], 1))\n",
    "    #punimo a\n",
    "    a = np.reshape(c, (-1, 1))\n",
    "    return a,b\n",
    "def svd_down(V, X):\n",
    "    #kreiramo b i punimo 0\n",
    "    b = np.zeros(V.shape[0])\n",
    "    b[-1] = 1\n",
    "    #transponujemo\n",
    "    b = np.reshape(b, (b.shape[0], 1))\n",
    "    #punimo a\n",
    "    a = np.reshape(np.multiply(X[:,-1], -1), (-1, 1))\n",
    "    return a,b\n",
    "def svd_rev(V,X, c):\n",
    "    #prosirujemo V\n",
    "    V = np.vstack([V, np.zeros(V.shape[1])])\n",
    "    #kreiramo b i punimo 0\n",
    "    b = np.zeros(V.shape[0])\n",
    "    b[-1] = 1\n",
    "    #transponujemo\n",
    "    b = np.reshape(b, (b.shape[0], 1))\n",
    "    #punimo a\n",
    "    a = np.reshape(X[:,-1] - c, (-1, 1))\n",
    "    return a,b\n",
    "def svd_recenter(V, X):\n",
    "    #kreiramo b i punimo 1\n",
    "    ones = np.ones(V.shape[1])\n",
    "    b = np.reshape(ones, (-1, 1))\n",
    "    #parametri potrebni za a\n",
    "    n = np.reshape(np.dot(np.transpose(V), b), (-1, 1))\n",
    "    q = b - np.dot(V, n)\n",
    "    #punimo a\n",
    "    a = np.reshape(np.multiply((-1/q), np.dot(X, b)), (-1, 1))\n",
    "    return a,b"
   ]
  },
  {
   "cell_type": "markdown",
   "metadata": {},
   "source": [
    "Pored toga potrebno nam je i:\n",
    "\n",
    "$m=U^T*a$\n",
    "\n",
    "$p=a-U*m$\n",
    "\n",
    "$Ra=||p||$\n",
    "\n",
    "$P=\\frac {p} {Ra}$\n",
    "\n",
    "$n=V^T*b$\n",
    "\n",
    "$q=b-V*n$\n",
    "\n",
    "$Rb=||q||\n",
    "\n",
    "$Q=\\frac {q} {Rb}$\n",
    "\n",
    "$K=\n",
    "\\begin{bmatrix}\n",
    "    S   &    0 \\\\\n",
    "    0   &   0 \\\\\n",
    "\\end{bmatrix}\n",
    "+\n",
    "\\begin{bmatrix}\n",
    "    m \\\\\n",
    "    ||p|| \\\\\n",
    "\\end{bmatrix}\n",
    "\\begin{bmatrix}\n",
    "    n \\\\\n",
    "    ||q|| \\\\\n",
    "\\end{bmatrix}^T$"
   ]
  },
  {
   "cell_type": "code",
   "execution_count": 4,
   "metadata": {
    "collapsed": true
   },
   "outputs": [],
   "source": [
    "def rediagonalization(U,S,V,a,b):\n",
    "    m = np.reshape(np.dot(np.transpose(U), a), (-1, 1))\n",
    "    p = np.reshape(a - np.dot(U, m), (-1, 1))\n",
    "    Ra = np.linalg.norm(p)\n",
    "    P = np.reshape(np.multiply((1 / Ra), p), (-1, 1))\n",
    "    n = np.reshape(np.dot(np.transpose(V), b), (-1, 1))\n",
    "    q = b - np.dot(V, n)\n",
    "    Rb = np.linalg.norm(q)\n",
    "    Q = np.reshape(np.multiply((1 / Rb), q), (-1, 1))\n",
    "\n",
    "    k = S\n",
    "    K = np.zeros((k.shape[0] + 1, k.shape[0] + 1))\n",
    "    K[:-1,:-1] = k\n",
    "    stack = np.vstack(np.append(m, Ra))\n",
    "    t = np.reshape(np.append(n, Rb), (1, -1))\n",
    "    dot = np.dot(stack, t)\n",
    "    K = np.add(K, dot)\n",
    "    return K"
   ]
  },
  {
   "cell_type": "code",
   "execution_count": 10,
   "metadata": {
    "collapsed": true
   },
   "outputs": [],
   "source": [
    "#op predstavlja operaciju koja se izvrsava\n",
    "#0-upd,1-dwn,2-rev,3-rec\n",
    "def svd(U,S,V,X,c=None,op=0):\n",
    "    if op==0:\n",
    "        if type(c)==type(np.array([])):\n",
    "            a, b = svd_upd(V, c)\n",
    "        else:\n",
    "            return None,None,None\n",
    "    elif op==1:\n",
    "        a, b = svd_down(V, X)\n",
    "    elif op==2:\n",
    "        if type(c)==type(np.array([])):\n",
    "            a, b = svd_rev(V, X, c)\n",
    "        else:\n",
    "            return None,None,None\n",
    "    elif op==3:\n",
    "        a, b = svd_recenter(V, X)\n",
    "    else:\n",
    "        return None,None,None\n",
    "    \n",
    "    k=rediagonalization(U,S,V,a,b)\n",
    "    \n",
    "    Sn, Vn=np.linalg.eig(k)\n",
    "    Sn=np.diag(Sn)\n",
    "    Un=np.transpose(np.linalg.inv(Vn))\n",
    "    \n",
    "    return Un, Sn, Vn"
   ]
  },
  {
   "cell_type": "code",
   "execution_count": 11,
   "metadata": {},
   "outputs": [
    {
     "data": {
      "text/plain": [
       "(array([[  1.10181930e+00,   1.43118595e+00,   4.54804969e-01,\n",
       "          -4.72161118e-17,   2.05038326e-16,   2.42044141e-31],\n",
       "        [  3.48694212e-01,   1.94555346e-01,   3.36993859e+00,\n",
       "           4.50926510e-01,   3.18953056e+00,   9.17523436e-16],\n",
       "        [  2.27385135e-01,   1.87962745e-01,  -8.13459948e-01,\n",
       "           6.51758509e-01,  -1.43387804e+00,   4.41487960e-16],\n",
       "        [  2.09571775e-01,  -3.14957548e-01,  -3.27299910e-01,\n",
       "          -7.48019572e-01,  -7.24956660e-01,  -1.75847108e-15],\n",
       "        [  3.16191765e-01,  -1.55388446e+00,  -2.68398370e+00,\n",
       "          -3.54665447e-01,  -1.03069587e+00,   3.99459689e-16],\n",
       "        [ -9.46381785e-17,   6.29435047e-16,  -7.14576585e-16,\n",
       "           1.95286599e-15,  -2.07786810e-15,   1.00000000e+00]]),\n",
       " array([[  4.08446734e+00,   0.00000000e+00,   0.00000000e+00,\n",
       "           0.00000000e+00,   0.00000000e+00,   0.00000000e+00],\n",
       "        [  0.00000000e+00,  -7.19313209e-01,   0.00000000e+00,\n",
       "           0.00000000e+00,   0.00000000e+00,   0.00000000e+00],\n",
       "        [  0.00000000e+00,   0.00000000e+00,  -9.33289708e-17,\n",
       "           0.00000000e+00,   0.00000000e+00,   0.00000000e+00],\n",
       "        [  0.00000000e+00,   0.00000000e+00,   0.00000000e+00,\n",
       "           1.54269903e-17,   0.00000000e+00,   0.00000000e+00],\n",
       "        [  0.00000000e+00,   0.00000000e+00,   0.00000000e+00,\n",
       "           0.00000000e+00,  -8.48219151e-17,   0.00000000e+00],\n",
       "        [  0.00000000e+00,   0.00000000e+00,   0.00000000e+00,\n",
       "           0.00000000e+00,   0.00000000e+00,  -2.56900633e-47]]),\n",
       " array([[  4.64319217e-01,   4.20811670e-01,  -2.50339439e-01,\n",
       "          -1.38856148e-01,   2.07700117e-01,   3.02922906e-16],\n",
       "        [  4.42932780e-01,  -4.33925742e-01,   2.92425432e-01,\n",
       "           2.26782131e-01,  -4.94566030e-02,  -2.16326213e-17],\n",
       "        [  4.41437488e-01,  -4.93687095e-01,   4.84105727e-01,\n",
       "           7.33535561e-01,  -6.33339106e-01,  -2.05004036e-15],\n",
       "        [  4.39498189e-01,  -5.71193744e-01,   7.32702799e-01,\n",
       "          -6.15014821e-01,  -7.00403581e-01,   6.70390208e-16],\n",
       "        [  4.47428769e-01,  -2.54237581e-01,  -2.83911580e-01,\n",
       "           1.13891111e-01,   2.50461788e-01,   2.97505802e-16],\n",
       "        [ -7.17544172e-18,  -2.86776071e-16,   9.19813879e-16,\n",
       "          -1.65890573e-15,  -1.00669965e-15,   1.00000000e+00]]))"
      ]
     },
     "execution_count": 11,
     "metadata": {},
     "output_type": "execute_result"
    }
   ],
   "source": [
    "Un, Sig, Vn = svd(U,S,V,X,c,op=0)\n",
    "Un, Sig, Vn"
   ]
  },
  {
   "cell_type": "code",
   "execution_count": 12,
   "metadata": {
    "collapsed": true
   },
   "outputs": [],
   "source": [
    "import time\n",
    "import pandas as pd\n",
    "\n",
    "RANK = 1\n",
    "N_COLS = 10\n",
    "\n",
    "def evaluate_svd(svd_fn, reconstruct_fn, min_rows=10, max_rows=50, n_samples=10, n_cols=N_COLS, rank=RANK, random_seed=0):\n",
    "    np.random.seed(random_seed)\n",
    "    elapsed_times = []\n",
    "    errors = []\n",
    "    n_rows_array = np.random.randint(low=min_rows, high=max_rows + 1, size=n_samples)\n",
    "    n_rows_array.sort()\n",
    "    \n",
    "    for n_rows in n_rows_array:\n",
    "        # construct a low-rank matrix\n",
    "        left = np.random.randn(n_rows, rank)\n",
    "        right = np.random.randn(rank, n_cols)\n",
    "        full = np.dot(left, right)\n",
    "\n",
    "        # how long does it take to perform the SVD?\n",
    "        start_t = time.time()\n",
    "        svd_outputs = svd_fn(full)\n",
    "        end_t = time.time()\n",
    "        elapsed_t = end_t - start_t\n",
    "        elapsed_times.append(elapsed_t)\n",
    "\n",
    "        # compute mean absolte error of reconstruction \n",
    "        reconstructed = reconstruct_fn(svd_outputs)\n",
    "        diff = full - reconstructed\n",
    "        mae = np.mean(np.abs(diff))\n",
    "        errors.append(mae)\n",
    "        print(\"n_rows=%d ==> time = %0.4f, MAE = %0.8f\" % (n_rows, elapsed_t, mae))\n",
    "    max_error = np.max(errors)\n",
    "    print(\"Max Error=%f\" % max_error)\n",
    "    assert max_error < 0.0000001\n",
    "    return n_rows_array, elapsed_times, errors \n",
    "\n",
    "def np_svd(X):\n",
    "    return np.linalg.svd(X, full_matrices=False, compute_uv=True)\n",
    "\n",
    "def np_inv_svd(svd_outputs):\n",
    "    U, s, V = svd_outputs\n",
    "    return np.dot(U, np.dot(np.diag(s), V))"
   ]
  },
  {
   "cell_type": "code",
   "execution_count": 13,
   "metadata": {},
   "outputs": [
    {
     "name": "stdout",
     "output_type": "stream",
     "text": [
      "n_rows=10 ==> time = 0.0000, MAE = 0.00000000\n",
      "n_rows=13 ==> time = 0.0010, MAE = 0.00000000\n",
      "n_rows=13 ==> time = 0.0000, MAE = 0.00000000\n",
      "n_rows=16 ==> time = 0.0000, MAE = 0.00000000\n",
      "n_rows=19 ==> time = 0.0000, MAE = 0.00000000\n",
      "n_rows=29 ==> time = 0.0000, MAE = 0.00000000\n",
      "n_rows=31 ==> time = 0.0000, MAE = 0.00000000\n",
      "n_rows=33 ==> time = 0.0000, MAE = 0.00000000\n",
      "n_rows=46 ==> time = 0.0000, MAE = 0.00000000\n",
      "n_rows=49 ==> time = 0.0000, MAE = 0.00000000\n",
      "Max Error=0.000000\n"
     ]
    }
   ],
   "source": [
    "n_rows, np_times, np_errors = evaluate_svd(np_svd, np_inv_svd)"
   ]
  },
  {
   "cell_type": "markdown",
   "metadata": {},
   "source": [
    "# Reference:\n",
    "1. Mladen Nikolić, Anđelka Zečević, <i>Naučno izračunavanje</i>, 2017, http://ni.matf.bg.ac.rs/materijali/ni.pdf\n",
    "\n",
    "2. Matthew Brand, <i>Fast low-rank modifications of the thin singular value decomposition</i>, 2006, http://www.sciencedirect.com/science/article/pii/S0024379505003812\n",
    "\n",
    "\n"
   ]
  }
 ],
 "metadata": {
  "kernelspec": {
   "display_name": "Python 3",
   "language": "python",
   "name": "python3"
  },
  "language_info": {
   "codemirror_mode": {
    "name": "ipython",
    "version": 3
   },
   "file_extension": ".py",
   "mimetype": "text/x-python",
   "name": "python",
   "nbconvert_exporter": "python",
   "pygments_lexer": "ipython3",
   "version": "3.7.3"
  }
 },
 "nbformat": 4,
 "nbformat_minor": 2
}
