{
 "cells": [
  {
   "cell_type": "markdown",
   "metadata": {},
   "source": [
    "# SVD\n",
    "## Opis\n",
    "Jedna od najkorisnijih dekompozicija je dekompozicija singularnih vrednosti (SVD - <i>singular value decomposition</i>). Ona nam pruža mogućnost rešavanja ili razumevanja problema koji su definisani sistemima jednačina zasnovanih na sigularnim ili blisko singularnim matricama. Dok druge metode ne pokazuju dobre rezultate u tim slučajevima.<br />\n",
    "Ovaj metod ima široku primenu: \n",
    "1. rešavanje linearnih jednačina, \n",
    "2. za kompresiju podataka, \n",
    "3. u algoritmu za preporučivanje, \n",
    "4. za konstrukciju frekvencije reči u dokumentima, \n",
    "5. za računanje $2-norme$ itd."
   ]
  },
  {
   "cell_type": "markdown",
   "metadata": {},
   "source": [
    "Ne zahteva da matrica $A$ koju faktorišemo bude kvadratna.\n",
    "Za $A$ dimenzija $p \\times q$ postoji ortogonalna matrica $U$ dimenzija $p \\times p$, dijagonalna matrica $\\Sigma$ dimenzija $p \\times q$ i ortogonalna matrica $V$ dimenzija $q \\times q$\n",
    "$$A=U \\Sigma V^T$$\n",
    "Predstavlja formulu SVD, međutim moguće je predstaviti je i sledećom formulom:\n",
    "$$X=U' \\Sigma' V^T$$\n",
    "gde su $U$ dimenzija $p \\times q$, $\\Sigma$ dimenzija $q \\times q$ i $V$ dimenzija $q \\times q$. Ovakva formula predstavlja tanku SVD.\n",
    "<br />Sledeća slika ilistruje formule.\n",
    "![svd.png](svd.png)\n",
    "<br />\n",
    "$\\Sigma$ se u računarstvu najčešće posmatra kao vektor dužine $q$, a formula može biti predstavljena kao suma matrica ranka-1 $\\sum_{i}u_{i}\\sigma_{i}v_{i}^T$, gde $\\sigma_{i}$ predstavljaju singularne vrednosti (sa diagonale $\\Sigma$ ), $u_{i}$ i $v_{i}$ su singularni vektori odnosno kolone $U$ i $V$\n",
    "![svd-suma.png](svd-suma.png)\n",
    "<br />\n",
    "Važi da su:\n",
    "1. Kolone matrice $U$ su sopstveni vektori $AA^T$ - levi singularni vektori matrice $A$\n",
    "2. Kolone matrice $V$ su sopstveni vektori $A^TA$ - desni singularni vektori matrice $A$\n",
    "3. Dijagonalni elementi $\\Sigma$ - singularne vrednosti matrice $A$\n",
    "4. Rang matrice A je broj $\\sigma _i<>0$"
   ]
  },
  {
   "cell_type": "markdown",
   "metadata": {},
   "source": [
    "Na osnovu prethodnog lako se može doći do sledećih formula:\n",
    "<br />\n",
    "$A^TA=V\\Sigma^TU^TU\\Sigma V^T=V\\Sigma^T\\Sigma V^T$\n",
    "<br />\n",
    "$AV=U\\Sigma$\n",
    "<br />\n",
    "$det(A^TA-\\lambda I)=0$ odavde je moguće izračunati $V$ i $\\Sigma$, a zatim uvrštavanjem u prethodnu formulu i $U$"
   ]
  },
  {
   "cell_type": "markdown",
   "metadata": {},
   "source": [
    "# Unapređenja algoritma\n",
    "#### Složenost izračunavanja\n",
    "Izračunavanje potpune singularne dekompozicije je računarski izuzetno zahtevno i potrebno je $\\Theta(pq^2)$ operacija. Cilj je komplseksnost smanjiti na $O(pqr)$. Jako brzo nakon pojavljivanja računara i praktičnog SVD algoritma počelo tragati za efikasnijim metodima. Tako je nastala tanka SVD modifikacija i slične metode koje su se odnosile na promenu podataka u matrici.\n",
    "<br />\n",
    "#### Predlaganje unapređenja\n",
    "Ovim naučnim radom se predlažu sledeće modifikacije i unapređenja:\n",
    "1. modifikacije sabiranja,\n",
    "2. rank-1 modifikacije,\n",
    "3. smanjenje kompleksnosti"
   ]
  },
  {
   "cell_type": "markdown",
   "metadata": {},
   "source": [
    "### Moguća redukcija\n",
    "Ukoliko pretpostavimo da je redosled vrednosti $\\sigma_{i}$ u neopadajućem poretku možemo eliminisati male vrednosti tako da ogranicimo $i < r < q$.<br />\n",
    "Tada je $U$ dimenzija $p \\times r$, $\\sigma$ vektor dimenzije $r$ i $V$ dimenzija $r \\times r$ i ovim smo dobili tanku SVD ranka-r."
   ]
  },
  {
   "cell_type": "markdown",
   "metadata": {},
   "source": [
    "## Modifikacija sabiranja\n",
    "\n",
    "Ako je $X=USV^T$ onda za sabiranje želimo da postavimo modifikaciju tako da: $X+AB^T=$$\\begin{bmatrix}U & A\\end{bmatrix}$$ $$\\begin{bmatrix} S & 0 \\\\ 0 & I \\end{bmatrix}$$ $$\\begin{bmatrix} V && B \\end{bmatrix}$$^T$. U slučaju kad je $rank(X+AB^T) \\leqslant r+c<min(p,q)$, matrice $U, V, A, B$ su visoke tanke.\n",
    "\n",
    "Dalje ako je $P$ ortogonalna baza $(I-UU^T)A$ i $R_A=P^T(I-UU^T)A$ onda\n",
    "\n",
    "$ $$\\begin{bmatrix}U & A\\end{bmatrix}$$ = $$\\begin{bmatrix} U & P\\end{bmatrix}$$ $$\\begin{bmatrix}I & U^TA \\\\ 0 & R_A\\end{bmatrix}$$ $\n",
    "\n",
    "Slično je za $QR_B=(I-VV^T)B$.\n",
    "\n",
    "Kombinacijom ovih formula dobijamo $X+AB^T=$$\\begin{bmatrix}U & P\\end{bmatrix}$$ K $$\\begin{bmatrix}V & Q\\end{bmatrix}$$^T$\n",
    "![k.png](k.png)\n",
    "Kada postavimo $U'^TKV'=S'$ tada $K$ proširuje prodprostore a $U'$ i $V'$ rotiraju $ $$\\begin{bmatrix}U & P\\end{bmatrix}$$ $ i $ $$\\begin{bmatrix}V & Q\\end{bmatrix}$$ $\n",
    "\n",
    "![finalna-formula.png](finalna-formula.png)"
   ]
  },
  {
   "cell_type": "markdown",
   "metadata": {},
   "source": [
    "## Rank-1 modifikacije\n",
    "Praktično se koristi tabela operacija sa SVD vrednostima koje znamo da izračunamo za tu operaciju, kao traženu koju možemo postići zamenom odgovarajućih $a$ i $b^T$ \n",
    "\n",
    "Za proširivanje:\n",
    "$a=c, b^T=[0,0,...,1]$\n",
    "\n",
    "Za smanjivanje:\n",
    "$a=-c, b^T=[0,0,...,1]$\n",
    "\n",
    "Za zamenu:\n",
    "$a=d-c, b^T=[0,0,...,1]$\n",
    "\n",
    "Za ponovno centriranje:\n",
    "$a=X*(I-(1/q)ll^T), b^T=l^T=[1,1,...,1]$\n",
    "![modifications](rank-1.png)\n",
    "\n",
    "Ako uzmemo da važi\n",
    "![m](m.png)\n",
    "![n](n.png)\n",
    "računanje $K$ se svodi u slučaju proširivanja na\n",
    "![prosirivanje](k-prosirivanje.png)\n",
    "što može biti izvršeno u $O(r^2)$, a u slučaju smanjivanja na\n",
    "![smanjivanje](k-smanjivanje.png)\n",
    "se može rešiti bez $P$ i $Q=(b-Vn)/\\sqrt{1-n^Tn}$ korišćenjem samo $i$-tog reda $V$"
   ]
  },
  {
   "cell_type": "code",
   "execution_count": 1,
   "metadata": {},
   "outputs": [],
   "source": [
    "def svd_upd(V, c):\n",
    "    #prosirujemo V\n",
    "    #V = np.vstack([V, np.zeros(V.shape[1])])\n",
    "    #kreiramo b i punimo 0\n",
    "    b = np.zeros(V.shape[0])\n",
    "    #dodajemo 1 na kraj\n",
    "    b[-1] = 1\n",
    "    #transponujemo\n",
    "    b = np.reshape(b, (b.shape[0], 1))\n",
    "    #punimo a\n",
    "    a = np.reshape(c, (-1, 1))\n",
    "    return a,b\n",
    "def svd_down(V, X):\n",
    "    #kreiramo b i punimo 0\n",
    "    b = np.zeros(V.shape[0])\n",
    "    b[-1] = 1\n",
    "    #transponujemo\n",
    "    b = np.reshape(b, (b.shape[0], 1))\n",
    "    #punimo a\n",
    "    a = np.reshape(np.multiply(X[:,-1], -1), (-1, 1))\n",
    "    return a,b\n",
    "def svd_rev(V,X, c):\n",
    "    #prosirujemo V\n",
    "    V = np.vstack([V, np.zeros(V.shape[1])])\n",
    "    #kreiramo b i punimo 0\n",
    "    b = np.zeros(V.shape[0])\n",
    "    b[-1] = 1\n",
    "    #transponujemo\n",
    "    b = np.reshape(b, (b.shape[0], 1))\n",
    "    #punimo a\n",
    "    a = np.reshape(X[:,-1] - c, (-1, 1))\n",
    "    return a,b\n",
    "def svd_recenter(V, X):\n",
    "    #kreiramo b i punimo 1\n",
    "    ones = np.ones(V.shape[1])\n",
    "    b = np.reshape(ones, (-1, 1))\n",
    "    #parametri potrebni za a\n",
    "    n = np.reshape(np.dot(np.transpose(V), b), (-1, 1))\n",
    "    q = b - np.dot(V, n)\n",
    "    #punimo a\n",
    "    a = np.reshape(np.multiply((-1/q), np.dot(X, b)), (-1, 1))\n",
    "    return a,b"
   ]
  },
  {
   "cell_type": "code",
   "execution_count": 2,
   "metadata": {},
   "outputs": [],
   "source": [
    "def rediagonalization(U,S,V,a,b):\n",
    "    m = np.reshape(np.dot(np.transpose(U), a), (-1, 1))\n",
    "    p = np.reshape(a - np.dot(U, m), (-1, 1))\n",
    "    Ra = np.linalg.norm(p)\n",
    "    P = np.reshape(np.multiply((1 / Ra), p), (-1, 1))\n",
    "    n = np.reshape(np.dot(np.transpose(V), b), (-1, 1))\n",
    "    q = b - np.dot(V, n)\n",
    "    Rb = np.linalg.norm(q)\n",
    "    Q = np.reshape(np.multiply((1 / Rb), q), (-1, 1))\n",
    "\n",
    "    k = S\n",
    "    K = np.zeros((k.shape[0] + 1, k.shape[0] + 1))\n",
    "    K[:-1,:-1] = k\n",
    "    stack = np.vstack(np.append(m, Ra))\n",
    "    t = np.reshape(np.append(n, Rb), (1, -1))\n",
    "    dot = np.dot(stack, t)\n",
    "    K = np.add(K, dot)\n",
    "    return K"
   ]
  },
  {
   "cell_type": "code",
   "execution_count": 3,
   "metadata": {},
   "outputs": [],
   "source": [
    "#op predstavlja operaciju koja se izvrsava\n",
    "#0-upd,1-dwn,2-rev,3-rec\n",
    "def svd(U,S,V,X,c=None,op=0):\n",
    "    if op==0:\n",
    "        if type(c)==type(np.array([])):\n",
    "            a, b = svd_upd(V, c)\n",
    "        else:\n",
    "            return None,None,None\n",
    "    elif op==1:\n",
    "        a, b = svd_down(V, X)\n",
    "    elif op==2:\n",
    "        if type(c)==type(np.array([])):\n",
    "            a, b = svd_rev(V, X, c)\n",
    "        else:\n",
    "            return None,None,None\n",
    "    elif op==3:\n",
    "        a, b = svd_recenter(V, X)\n",
    "    else:\n",
    "        return None,None,None\n",
    "    \n",
    "    k=rediagonalization(U,S,V,a,b)\n",
    "    \n",
    "    Sn, Vn=np.linalg.eig(k)\n",
    "    Sn=np.diag(Sn)\n",
    "    Un=np.transpose(np.linalg.inv(Vn))\n",
    "    \n",
    "    return Un, Sn, Vn"
   ]
  },
  {
   "cell_type": "code",
   "execution_count": 14,
   "metadata": {},
   "outputs": [
    {
     "name": "stdout",
     "output_type": "stream",
     "text": [
      "Vreme potrebno za racuanje SVD od X1 - 73.94300150871277\n",
      "vreme potrebno za racuanje SVD od X2 - 73.95400047302246\n",
      "vreme potrebno za racunanje inkrementalnog SVD 33.55100870132446\n"
     ]
    }
   ],
   "source": [
    "import numpy as np\n",
    "import time\n",
    "import scipy.linalg as lin\n",
    "\n",
    "size=30000\n",
    "\n",
    "a = np.random.randint(100,size=(size, size//10))\n",
    "X1 = a#lin.orth(a)\n",
    "\n",
    "start1 = time.time()\n",
    "U1, S1, V1 = np.linalg.svd(X1, full_matrices = False)\n",
    "end1 = time.time()\n",
    "\n",
    "print('Vreme potrebno za racuanje SVD od X1 - ' + str(end1 - start1))\n",
    "\n",
    "c = np.random.randint(100,size=(size, 1))\n",
    "X2 = np.hstack((X1,c))\n",
    "start2 = time.time()\n",
    "U2, S2, V2 = np.linalg.svd(X2, full_matrices = False)\n",
    "end2 = time.time()\n",
    "\n",
    "print('vreme potrebno za racuanje SVD od X2 - ' + str(end2 - start2))\n",
    "#U2.dot(np.diag(S2)).dot(V2), X2\n",
    "\n",
    "start3 = time.time()\n",
    "Un, Sig, Vn = svd(U1,S1,V1,X1,c,op=0)\n",
    "end3 = time.time()\n",
    "\n",
    "print('vreme potrebno za racunanje inkrementalnog SVD ' + str(end3 - start3))\n",
    "#Vn.T.dot(Sig).dot(Un), X2"
   ]
  },
  {
   "cell_type": "markdown",
   "metadata": {},
   "source": [
    "## Diskusija o algoritmu\n",
    "<font color='red'>\n",
    "Prikazana metrika - vreme potrebno za izračunavanje predstavlja značajnu uštedu. Međutim prveliki problem je u tačnosti izračunavanja. Ne dobija se matrica dekompozicija kojom se može rekonstruisati polazna matrica. \n",
    "Prikazani algoritam je direktno izveden iz formula iznetih u naučnom radu [1] međutim očigledno je potrebno izvršiti modifikaciju.\n",
    "Citiranost rada od u oko 300 naučnih radova čini ga osnovom inkrementalnog SVD, međutim analizom implementacija na koje sam nailazio (u drugim programskim jezicima) nisam uspeo doći do tačnih rezultata.\n",
    "</font>"
   ]
  },
  {
   "cell_type": "markdown",
   "metadata": {},
   "source": [
    "## Smanjivanje kompleksnosti\n",
    "Korišćenjem odogvarajuće implementacije prethodnih koraka, moguće je kompleksnost dodatno smanjiti. Tako je za operaciju dodavanja moguće postići umesto $O(p(r+c)^2)$ - $O(pr)$, za rediagojalizaciju umesto $O((r+c)^3)$ na $O(r^2)$, a za rotiranje bodprostora sa $O((p+q)(c+r)^2)$ na $O(r^3)$.\n",
    "Takva unapređenja se postižu umesto prethodne formule koristi pojednostavljena\n",
    "![poboljsanje-kompleksnosti](poboljsanje-kompleksnosti.png)\n",
    "i zatim se u svakom koraku umesto da se rotiraju $U$ i $V$ rotiraju značajno manje $U'$ i $V'$"
   ]
  },
  {
   "cell_type": "markdown",
   "metadata": {},
   "source": [
    "# Reference:\n",
    "1. Mladen Nikolić, Anđelka Zečević, <i>Naučno izračunavanje</i>, 2017, http://ni.matf.bg.ac.rs/materijali/ni.pdf\n",
    "\n",
    "2. Matthew Brand, <i>Fast low-rank modifications of the thin singular value decomposition</i>, 2006, http://www.sciencedirect.com/science/article/pii/S0024379505003812\n",
    "\n",
    "\n"
   ]
  }
 ],
 "metadata": {
  "kernelspec": {
   "display_name": "Python 3",
   "language": "python",
   "name": "python3"
  },
  "language_info": {
   "codemirror_mode": {
    "name": "ipython",
    "version": 3
   },
   "file_extension": ".py",
   "mimetype": "text/x-python",
   "name": "python",
   "nbconvert_exporter": "python",
   "pygments_lexer": "ipython3",
   "version": "3.7.3"
  }
 },
 "nbformat": 4,
 "nbformat_minor": 4
}
