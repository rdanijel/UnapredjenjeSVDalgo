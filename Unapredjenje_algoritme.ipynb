{
 "cells": [
  {
   "cell_type": "markdown",
   "metadata": {},
   "source": [
    "# SVD\n",
    "## Opis\n",
    "Jedna od najkorisnijih dekompozicija je dekompozicija singularnih vrednosti (SVD - <i>singular value decomposition</i>). Ona nam pruža mogućnost rešavanja ili razumevanja problema koji su definisani sistemima jednačina zasnovanih na sigularnim ili blisko singularnim matricama. Dok druge metode ne pokazuju dobre rezultate u tim slučajevima.<br />\n",
    "Ovaj metod ima široku primenu: \n",
    "1. rešavanje linearnih jednačina, \n",
    "2. za kompresiju podataka, u algoritmu za preporučivanje, \n",
    "3. za konstrukciju frekvencije reči u dokumentima, \n",
    "4. za računanje $2-norme$ itd."
   ]
  },
  {
   "cell_type": "markdown",
   "metadata": {},
   "source": [
    "Ne zahteva da matrica $A$ koju faktorišemo bude kvadratna.\n",
    "Za $A$ dimenzija $p \\times q$ postoji ortogonalna matrica $U$ dimenzija $p \\times p$, dijagonalna matrica $\\Sigma$ dimenzija $p \\times q$ i ortogonalna matrica $V$ dimenzija $q \\times q$\n",
    "$$A=U \\Sigma V^T$$\n",
    "Predstavlja formulu SVD, međutim moguće je predstaviti je i sledećom formulom:\n",
    "$$X=U' \\Sigma' V^T$$\n",
    "gde su $U$ dimenzija $p \\times q$, $\\Sigma$ dimenzija $q \\times q$ i $V$ dimenzija $q \\times q$. Ovakva formula predstavlja tanku SVD.\n",
    "<br />Sledeća slika ilistruje formule.\n",
    "![svd.png](svd.png)\n",
    "<br />\n",
    "$\\Sigma$ se u računarstvu najčešće posmatra kao vektor dužine $q$, a formula može biti predstavljena kao suma matrica ranka-1 $\\sum_{i}u_{i}\\sigma_{i}v_{i}^T$, gde $\\sigma_{i}$ predstavljaju singularne vrednosti (sa diagonale $\\Sigma$ ), $u_{i}$ i $v_{i}$ su singularni vektori odnosno kolone $U$ i $V$\n",
    "![svd-suma.png](svd-suma.png)\n",
    "<br />\n",
    "Važi da su:\n",
    "1. Kolone matrice $U$ su sopstveni vektori $AA^T$ - levi singularni vektori matrice $A$\n",
    "2. Kolone matrice $V$ su sopstveni vektori $A^TA$ - desni singularni vektori matrice $A$\n",
    "3. Dijagonalni elementi $\\Sigma$ - singularne vrednosti matrice $A$\n",
    "4. Rang matrice A je broj $\\sigma _i<>0$"
   ]
  },
  {
   "cell_type": "markdown",
   "metadata": {},
   "source": [
    "Na osnovu prethodnog lako se može doći do sledećih formula:\n",
    "<br />\n",
    "$A^TA=V\\Sigma^TU^TU\\Sigma V^T=V\\Sigma^T\\Sigma V^T$\n",
    "<br />\n",
    "$AV=U\\Sigma$\n",
    "<br />\n",
    "$det(A^TA-\\lambda I)=0$ odavde je moguće izračunati $V$ i $\\Sigma$, a zatim uvrštavanjem u prethodnu formulu i $U$"
   ]
  },
  {
   "cell_type": "markdown",
   "metadata": {},
   "source": [
    "# Unapređenja algoritma\n",
    "#### Složenost izračunavanja\n",
    "Izračunavanje potpune singularne dekompozicije je računarski izuzetno zahtevno i potrebno je $\\Theta(pq^2)$ operacija. Cilj je komplseksnost smanjiti na $O(pqr)$. Jako brzo nakon pojavljivanja računara i praktičnog SVD algoritma počelo tragati za efikasnijim metodima. Tako je nastala tanka SVD modifikacija i slične metode koje su se odnosile na promenu podataka u matrici.\n",
    "<br />\n",
    "#### Predlaganje unapređenja\n",
    "Ovim naučnim radom se predlažu sledeće modifikacije i unapređenja:\n",
    "1. modifikacije sabiranja,\n",
    "2. rank-1 modifikacije,\n",
    "3. smanjenje kompleksnosti"
   ]
  },
  {
   "cell_type": "markdown",
   "metadata": {},
   "source": [
    "### Moguća redukcija\n",
    "Ukoliko pretpostavimo da je redosled vrednosti $\\sigma_{i}$ u neopadajućem poretku možemo eliminisati male vrednosti tako da ogranicimo $i < r < q$.<br />\n",
    "Tada je $U$ dimenzija $p \\times r$, $\\sigma$ vektor dimenzije $r$ i $V$ dimenzija $r \\times r$ i ovim smo dobili tanku SVD ranka-r."
   ]
  },
  {
   "cell_type": "markdown",
   "metadata": {
    "collapsed": true
   },
   "source": [
    "## Modifikacija sabiranja\n",
    "\n",
    "Ako je $X=USV^T$ onda za sabiranje želimo da postavimo modifikaciju tako da: $X+AB^T=$$\\begin{bmatrix}U & A\\end{bmatrix}$$ $$\\begin{bmatrix} S & 0 \\\\ 0 & I \\end{bmatrix}$$ $$\\begin{bmatrix} V && B \\end{bmatrix}$$^T$. U slučaju kad je $rank(X+AB^T) \\leqslant r+c<min(p,q)$, matrice $U, V, A, B$ su visoke tanke.\n",
    "\n",
    "Dalje ako je $P$ ortogonalna baza $(I-UU^T)A$ i $R_A=P^T(I-UU^T)A$ onda\n",
    "\n",
    "$ $$\\begin{bmatrix}U & A\\end{bmatrix}$$ = $$\\begin{bmatrix} U & P\\end{bmatrix}$$ $$\\begin{bmatrix}I & U^TA \\\\ 0 & R_A\\end{bmatrix}$$ $\n",
    "\n",
    "Slično je za $QR_B=(I-VV^T)B$.\n",
    "\n",
    "Kombinacijom ovih formula dobijamo $X+AB^T=$$\\begin{bmatrix}U & P\\end{bmatrix}$$ K $$\\begin{bmatrix}V & Q\\end{bmatrix}$$^T$\n",
    "![k.png](k.png)\n",
    "Kada postavimo $U'^TKV'=S'$ tada $K$ proširuje prodprostore a $U'$ i $V'$ rotiraju $ $$\\begin{bmatrix}U & P\\end{bmatrix}$$ $ i $ $$\\begin{bmatrix}V & Q\\end{bmatrix}$$ $\n",
    "\n",
    "![finalna-formula.png](finalna-formula.png)"
   ]
  },
  {
   "cell_type": "markdown",
   "metadata": {
    "collapsed": true
   },
   "source": [
    "## Rank-1 modifikacije\n",
    "Praktično se koristi tabela operacija sa SVD vrednostima koje znamo da izračunamo za tu operaciju, kao traženu koju možemo postići zamenom odgovarajućih $a$ i $b^T$ \n",
    "\n",
    "Za proširivanje:\n",
    "$a=c, b^T=[0,0,...,1]$\n",
    "\n",
    "Za smanjivanje:\n",
    "$a=-c, b^T=[0,0,...,1]$\n",
    "\n",
    "Za zamenu:\n",
    "$a=d-c, b^T=[0,0,...,1]$\n",
    "\n",
    "Za ponovno centriranje:\n",
    "$a=X*(I-(1/q)ll^T), b^T=l^T=[1,1,...,1]$\n",
    "![modifications](rank-1.png)\n",
    "\n",
    "Ako uzmemo da važi\n",
    "![m](m.png)\n",
    "![n](n.png)\n",
    "računanje $K$ se svodi u slučaju proširivanja na\n",
    "![prosirivanje](k-prosirivanje.png)\n",
    "što može biti izvršeno u $O(r^2)$, a u slučaju smanjivanja na\n",
    "![smanjivanje](k-smanjivanje.png)\n",
    "se može rešiti bez $P$ i $Q=(b-Vn)/\\sqrt{1-n^Tn}$ korišćenjem samo $i$tog reda $V$"
   ]
  },
  {
   "cell_type": "markdown",
   "metadata": {},
   "source": []
  },
  {
   "cell_type": "code",
   "execution_count": 24,
   "metadata": {},
   "outputs": [],
   "source": [
    "def svd_upd(V, c):\n",
    "    #prosirujemo V\n",
    "    #V = np.vstack([V, np.zeros(V.shape[1])])\n",
    "    #kreiramo b i punimo 0\n",
    "    b = np.zeros(V.shape[0])\n",
    "    #dodajemo 1 na kraj\n",
    "    b[-1] = 1\n",
    "    #transponujemo\n",
    "    b = np.reshape(b, (b.shape[0], 1))\n",
    "    #punimo a\n",
    "    a = np.reshape(c, (-1, 1))\n",
    "    return a,b\n",
    "def svd_down(V, X):\n",
    "    #kreiramo b i punimo 0\n",
    "    b = np.zeros(V.shape[0])\n",
    "    b[-1] = 1\n",
    "    #transponujemo\n",
    "    b = np.reshape(b, (b.shape[0], 1))\n",
    "    #punimo a\n",
    "    a = np.reshape(np.multiply(X[:,-1], -1), (-1, 1))\n",
    "    return a,b\n",
    "def svd_rev(V,X, c):\n",
    "    #prosirujemo V\n",
    "    V = np.vstack([V, np.zeros(V.shape[1])])\n",
    "    #kreiramo b i punimo 0\n",
    "    b = np.zeros(V.shape[0])\n",
    "    b[-1] = 1\n",
    "    #transponujemo\n",
    "    b = np.reshape(b, (b.shape[0], 1))\n",
    "    #punimo a\n",
    "    a = np.reshape(X[:,-1] - c, (-1, 1))\n",
    "    return a,b\n",
    "def svd_recenter(V, X):\n",
    "    #kreiramo b i punimo 1\n",
    "    ones = np.ones(V.shape[1])\n",
    "    b = np.reshape(ones, (-1, 1))\n",
    "    #parametri potrebni za a\n",
    "    n = np.reshape(np.dot(np.transpose(V), b), (-1, 1))\n",
    "    q = b - np.dot(V, n)\n",
    "    #punimo a\n",
    "    a = np.reshape(np.multiply((-1/q), np.dot(X, b)), (-1, 1))\n",
    "    return a,b"
   ]
  },
  {
   "cell_type": "markdown",
   "metadata": {},
   "source": [
    "Pored toga potrebno nam je i:\n",
    "\n",
    "$m=U^T*a$\n",
    "\n",
    "$p=a-U*m$\n",
    "\n",
    "$Ra=||p||$\n",
    "\n",
    "$P=\\frac {p} {Ra}$\n",
    "\n",
    "$n=V^T*b$\n",
    "\n",
    "$q=b-V*n$\n",
    "\n",
    "$Rb=||q||\n",
    "\n",
    "$Q=\\frac {q} {Rb}$\n",
    "\n",
    "$K=\n",
    "\\begin{bmatrix}\n",
    "    S   &    0 \\\\\n",
    "    0   &   0 \\\\\n",
    "\\end{bmatrix}\n",
    "+\n",
    "\\begin{bmatrix}\n",
    "    m \\\\\n",
    "    ||p|| \\\\\n",
    "\\end{bmatrix}\n",
    "\\begin{bmatrix}\n",
    "    n \\\\\n",
    "    ||q|| \\\\\n",
    "\\end{bmatrix}^T$"
   ]
  },
  {
   "cell_type": "code",
   "execution_count": 25,
   "metadata": {},
   "outputs": [],
   "source": [
    "def rediagonalization(U,S,V,a,b):\n",
    "    m = np.reshape(np.dot(np.transpose(U), a), (-1, 1))\n",
    "    p = np.reshape(a - np.dot(U, m), (-1, 1))\n",
    "    Ra = np.linalg.norm(p)\n",
    "    P = np.reshape(np.multiply((1 / Ra), p), (-1, 1))\n",
    "    n = np.reshape(np.dot(np.transpose(V), b), (-1, 1))\n",
    "    q = b - np.dot(V, n)\n",
    "    Rb = np.linalg.norm(q)\n",
    "    Q = np.reshape(np.multiply((1 / Rb), q), (-1, 1))\n",
    "\n",
    "    k = S\n",
    "    K = np.zeros((k.shape[0] + 1, k.shape[0] + 1))\n",
    "    K[:-1,:-1] = k\n",
    "    stack = np.vstack(np.append(m, Ra))\n",
    "    t = np.reshape(np.append(n, Rb), (1, -1))\n",
    "    dot = np.dot(stack, t)\n",
    "    K = np.add(K, dot)\n",
    "    return K"
   ]
  },
  {
   "cell_type": "code",
   "execution_count": 26,
   "metadata": {},
   "outputs": [],
   "source": [
    "#op predstavlja operaciju koja se izvrsava\n",
    "#0-upd,1-dwn,2-rev,3-rec\n",
    "def svd(U,S,V,X,c=None,op=0):\n",
    "    if op==0:\n",
    "        if type(c)==type(np.array([])):\n",
    "            a, b = svd_upd(V, c)\n",
    "        else:\n",
    "            return None,None,None\n",
    "    elif op==1:\n",
    "        a, b = svd_down(V, X)\n",
    "    elif op==2:\n",
    "        if type(c)==type(np.array([])):\n",
    "            a, b = svd_rev(V, X, c)\n",
    "        else:\n",
    "            return None,None,None\n",
    "    elif op==3:\n",
    "        a, b = svd_recenter(V, X)\n",
    "    else:\n",
    "        return None,None,None\n",
    "    \n",
    "    k=rediagonalization(U,S,V,a,b)\n",
    "    \n",
    "    Sn, Vn=np.linalg.eig(k)\n",
    "    Sn=np.diag(Sn)\n",
    "    Un=np.transpose(np.linalg.inv(Vn))\n",
    "    \n",
    "    return Un, Sn, Vn"
   ]
  },
  {
   "cell_type": "code",
   "execution_count": 27,
   "metadata": {},
   "outputs": [
    {
     "ename": "NameError",
     "evalue": "name 'c' is not defined",
     "output_type": "error",
     "traceback": [
      "\u001b[1;31m---------------------------------------------------------------------------\u001b[0m",
      "\u001b[1;31mNameError\u001b[0m                                 Traceback (most recent call last)",
      "\u001b[1;32m<ipython-input-27-8633c2ea0333>\u001b[0m in \u001b[0;36m<module>\u001b[1;34m\u001b[0m\n\u001b[1;32m----> 1\u001b[1;33m \u001b[0mUn\u001b[0m\u001b[1;33m,\u001b[0m \u001b[0mSig\u001b[0m\u001b[1;33m,\u001b[0m \u001b[0mVn\u001b[0m \u001b[1;33m=\u001b[0m \u001b[0msvd\u001b[0m\u001b[1;33m(\u001b[0m\u001b[0mU\u001b[0m\u001b[1;33m,\u001b[0m\u001b[0mS\u001b[0m\u001b[1;33m,\u001b[0m\u001b[0mV\u001b[0m\u001b[1;33m,\u001b[0m\u001b[0mX\u001b[0m\u001b[1;33m,\u001b[0m\u001b[0mc\u001b[0m\u001b[1;33m,\u001b[0m\u001b[0mop\u001b[0m\u001b[1;33m=\u001b[0m\u001b[1;36m0\u001b[0m\u001b[1;33m)\u001b[0m\u001b[1;33m\u001b[0m\u001b[1;33m\u001b[0m\u001b[0m\n\u001b[0m\u001b[0;32m      2\u001b[0m \u001b[0mUn\u001b[0m\u001b[1;33m,\u001b[0m \u001b[0mSig\u001b[0m\u001b[1;33m,\u001b[0m \u001b[0mVn\u001b[0m\u001b[1;33m\u001b[0m\u001b[1;33m\u001b[0m\u001b[0m\n",
      "\u001b[1;31mNameError\u001b[0m: name 'c' is not defined"
     ]
    }
   ],
   "source": [
    "Un, Sig, Vn = svd(U,S,V,X,c,op=0)\n",
    "Un, Sig, Vn"
   ]
  },
  {
   "cell_type": "code",
   "execution_count": 12,
   "metadata": {
    "collapsed": true
   },
   "outputs": [],
   "source": [
    "import time\n",
    "import pandas as pd\n",
    "\n",
    "RANK = 1\n",
    "N_COLS = 10\n",
    "\n",
    "def evaluate_svd(svd_fn, reconstruct_fn, min_rows=10, max_rows=50, n_samples=10, n_cols=N_COLS, rank=RANK, random_seed=0):\n",
    "    np.random.seed(random_seed)\n",
    "    elapsed_times = []\n",
    "    errors = []\n",
    "    n_rows_array = np.random.randint(low=min_rows, high=max_rows + 1, size=n_samples)\n",
    "    n_rows_array.sort()\n",
    "    \n",
    "    for n_rows in n_rows_array:\n",
    "        # construct a low-rank matrix\n",
    "        left = np.random.randn(n_rows, rank)\n",
    "        right = np.random.randn(rank, n_cols)\n",
    "        full = np.dot(left, right)\n",
    "\n",
    "        # how long does it take to perform the SVD?\n",
    "        start_t = time.time()\n",
    "        svd_outputs = svd_fn(full)\n",
    "        end_t = time.time()\n",
    "        elapsed_t = end_t - start_t\n",
    "        elapsed_times.append(elapsed_t)\n",
    "\n",
    "        # compute mean absolte error of reconstruction \n",
    "        reconstructed = reconstruct_fn(svd_outputs)\n",
    "        diff = full - reconstructed\n",
    "        mae = np.mean(np.abs(diff))\n",
    "        errors.append(mae)\n",
    "        print(\"n_rows=%d ==> time = %0.4f, MAE = %0.8f\" % (n_rows, elapsed_t, mae))\n",
    "    max_error = np.max(errors)\n",
    "    print(\"Max Error=%f\" % max_error)\n",
    "    assert max_error < 0.0000001\n",
    "    return n_rows_array, elapsed_times, errors \n",
    "\n",
    "def np_svd(X):\n",
    "    return np.linalg.svd(X, full_matrices=False, compute_uv=True)\n",
    "\n",
    "def np_inv_svd(svd_outputs):\n",
    "    U, s, V = svd_outputs\n",
    "    return np.dot(U, np.dot(np.diag(s), V))"
   ]
  },
  {
   "cell_type": "code",
   "execution_count": 13,
   "metadata": {},
   "outputs": [
    {
     "name": "stdout",
     "output_type": "stream",
     "text": [
      "n_rows=10 ==> time = 0.0000, MAE = 0.00000000\n",
      "n_rows=13 ==> time = 0.0010, MAE = 0.00000000\n",
      "n_rows=13 ==> time = 0.0000, MAE = 0.00000000\n",
      "n_rows=16 ==> time = 0.0000, MAE = 0.00000000\n",
      "n_rows=19 ==> time = 0.0000, MAE = 0.00000000\n",
      "n_rows=29 ==> time = 0.0000, MAE = 0.00000000\n",
      "n_rows=31 ==> time = 0.0000, MAE = 0.00000000\n",
      "n_rows=33 ==> time = 0.0000, MAE = 0.00000000\n",
      "n_rows=46 ==> time = 0.0000, MAE = 0.00000000\n",
      "n_rows=49 ==> time = 0.0000, MAE = 0.00000000\n",
      "Max Error=0.000000\n"
     ]
    }
   ],
   "source": [
    "n_rows, np_times, np_errors = evaluate_svd(np_svd, np_inv_svd)"
   ]
  },
  {
   "cell_type": "markdown",
   "metadata": {},
   "source": [
    "# Reference:\n",
    "1. Mladen Nikolić, Anđelka Zečević, <i>Naučno izračunavanje</i>, 2017, http://ni.matf.bg.ac.rs/materijali/ni.pdf\n",
    "\n",
    "2. Matthew Brand, <i>Fast low-rank modifications of the thin singular value decomposition</i>, 2006, http://www.sciencedirect.com/science/article/pii/S0024379505003812\n",
    "\n",
    "\n"
   ]
  }
 ],
 "metadata": {
  "kernelspec": {
   "display_name": "Python 3",
   "language": "python",
   "name": "python3"
  },
  "language_info": {
   "codemirror_mode": {
    "name": "ipython",
    "version": 3
   },
   "file_extension": ".py",
   "mimetype": "text/x-python",
   "name": "python",
   "nbconvert_exporter": "python",
   "pygments_lexer": "ipython3",
   "version": "3.7.3"
  }
 },
 "nbformat": 4,
 "nbformat_minor": 2
}
