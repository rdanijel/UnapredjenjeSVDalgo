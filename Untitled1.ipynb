{
 "cells": [
  {
   "attachments": {},
   "cell_type": "markdown",
   "metadata": {},
   "source": [
    "# SVD\n",
    "## Opis\n",
    "Za slučaj singularnih ili bliskih singularnim matricama druge metode ne pokazuju dobre rezultate, zbog loše uslovljenosti.\n",
    "SVD (<i>singular value decomposition</i>) nam omogućava rešavanje takvih sistema ili samo razumevanje problema.\n",
    "Primena je široka: rešavanje linearnih jednačina, za kompresiju podataka, u algoritmu za preporučivanje, za konstrukciju frekvencije reči u dokumentima, za računanje $2-norme$ itd.\n",
    "<br />\n",
    "Ne zahteva da matrica $X$ koju faktorišemo bude kvadratna.\n",
    "Za $X$ dimenzija $p \\times q$ postoji ortogonalna matrica $U$ dimenzija $p \\times p$, dijagonalna matrica $\\Sigma$ dimenzija $p \\times q$ i ortogonalna matrica $V$ dimenzija $q \\times q$\n",
    "$$X=U \\Sigma V^T$$\n",
    "Predstavlja formulu SVD, međutim moguće je predstaviti je i sledećom formulom:\n",
    "$$X=U' \\Sigma' V^T$$\n",
    "gde su $U$ dimenzija $p \\times q$, $\\Sigma$ dimenzija $q \\times q$ i $V$ dimenzija $q \\times q$.\n",
    "<br />Sledeća slika ilistruje formule.\n",
    "![svd.png](svd.png)\n",
    "<br />\n",
    "Formula se takođe može interpretirati kao suma matrica ranka-1 $\\sum_{i}u_{i}\\sigma_{i}v_{i}^T$, gde $\\sigma_{i}$ predstavljaju singularne vrednosti (sa dioganolae $\\Sigma$ ), $u_{i}$ i $v_{i}$ su singularni vektori odnosno kolone $U$ i $V$"
   ]
  },
  {
   "cell_type": "code",
   "execution_count": 1,
   "metadata": {},
   "outputs": [
    {
     "data": {
      "text/plain": [
       "(array([[ 0.60010945,  0.63832484,  0.77105484,  0.31586512,  0.57876674],\n",
       "        [ 0.2986529 ,  0.46884963,  0.25982789,  0.7261936 ,  0.10725273],\n",
       "        [ 0.0451854 ,  0.06593957,  0.08670206,  0.36914179,  0.15108136],\n",
       "        [ 0.65063782,  0.46195328,  0.00449038,  0.11556131,  0.5508412 ],\n",
       "        [ 0.8999101 ,  0.47961989,  0.69627274,  0.89395433,  0.58673271]]),\n",
       " array([[ 0.72504377],\n",
       "        [ 0.10004105],\n",
       "        [ 0.31053811],\n",
       "        [ 0.32303512],\n",
       "        [ 0.92566977]]))"
      ]
     },
     "execution_count": 1,
     "metadata": {},
     "output_type": "execute_result"
    }
   ],
   "source": [
    "import numpy as np \n",
    "import numpy.random as rnd\n",
    "X = rnd.rand(5, 5)\n",
    "c = rnd.rand(5,1)\n",
    "X,c"
   ]
  },
  {
   "cell_type": "code",
   "execution_count": 2,
   "metadata": {},
   "outputs": [
    {
     "name": "stdout",
     "output_type": "stream",
     "text": [
      "[[-0.53532845  0.32350618  0.68332851 -0.32992269 -0.18160499]\n",
      " [-0.35257817 -0.56626237 -0.26963723 -0.66023087  0.21546814]\n",
      " [-0.13384014 -0.31124696 -0.15428489  0.10031107 -0.92268413]\n",
      " [-0.33932988  0.65285111 -0.65957596 -0.13391882 -0.07527267]\n",
      " [-0.6753178  -0.2271595  -0.03890561  0.65364337  0.25215297]] [ 2.38999998  0.68586875  0.46392736  0.29437849  0.14982145] [[-0.52766023 -0.41694367 -0.41326802 -0.46755409 -0.39791379]\n",
      " [ 0.33724511  0.16493407 -0.11650761 -0.80416543  0.44587714]\n",
      " [-0.30518589 -0.05121581  0.89108132 -0.31885055 -0.09244958]\n",
      " [ 0.37519938 -0.88965827  0.12662275  0.07546066  0.21448997]\n",
      " [ 0.61149605  0.06956888  0.07467455 -0.16538181 -0.76701064]]\n"
     ]
    }
   ],
   "source": [
    "(U,S,V) = np.linalg.svd( X , full_matrices=True )\n",
    "print(U,S,V)"
   ]
  },
  {
   "cell_type": "markdown",
   "metadata": {},
   "source": [
    "## Redukcija\n",
    "Ukoliko pretpostavimo da je redosled vrednosti $\\sigma_{i}$ u neopadajućem poretku možemo eliminisati male vrednosti tako da ogranicimo $i < r < q$.<br />\n",
    "Dobijamo da je $U$ dimenzija $p \\times r$, $\\sigma$ vektor dimenzije $r$ i $V$ dimenzija $q \\times r$. <br />\n",
    "Nas interesuje upravo takva dekompozicij koju nazivamo tanka SVD ranka-r."
   ]
  },
  {
   "cell_type": "markdown",
   "metadata": {},
   "source": [
    "## Složenost izračunavanja\n",
    "Izračunavanje singularne dekompozicije je računarski izuzetno zahtevno i potrebno je $\\Theta(pq^2)$ operacija. Cilj je komplseksnost smanjiti na $O(pqr)$"
   ]
  },
  {
   "cell_type": "markdown",
   "metadata": {
    "collapsed": true
   },
   "source": [
    "## Problem\n",
    "Nas interesuje unapređenje SVD algoritma tako za da već izračunatu dekompoziciju $U,S,V$ ne računamo ponovo SVD za promene nad $X$.<br /> Znači problem je sledeći: za izracunate $U,S,V$ od $X$ treba rešiti $X+AB^T$ gde su $A$ i $B$ matrice ranka $c$, odnosno dimenzija $p \\times c$ i $q \\times c$. <br />\n",
    "Modifikacijama se dolazi se do formule:\n",
    "$$X + AB^T = ([U,P]U')S'([V,Q]V')^T$$\n",
    "Svođenjem na modifikacije ranka-1 rešava se $X+ab^T$ gde su $a$ i $b$ vektori $p \\times 1$. <br />\n",
    "<i>Indukcijom se ovim metodom može izgraditi cela SVD od 0.</i>"
   ]
  },
  {
   "cell_type": "markdown",
   "metadata": {
    "collapsed": true
   },
   "source": [
    "Operacije koje primenjujemo prema algoritmu su:\n",
    "\n",
    "Za dodavanje:\n",
    "$a=c, b^T=[0,0,...,1]$\n",
    "\n",
    "Za umanjivanje:\n",
    "$a=X[:,-1], b^T=[0,0,...,1]$\n",
    "\n",
    "Za preispitivanje:\n",
    "$a=X[:,-1]-c, b^T=[0,0,...,1]$\n",
    "\n",
    "Za ponovno centriranje:\n",
    "$a=X*(I-(1/q)ll^T), l^T=[1,1,...,1]$\n",
    "![modifications](rank-1.png)"
   ]
  },
  {
   "cell_type": "code",
   "execution_count": 3,
   "metadata": {
    "collapsed": true
   },
   "outputs": [],
   "source": [
    "def svd_upd(V, c):\n",
    "    #prosirujemo V\n",
    "    #V = np.vstack([V, np.zeros(V.shape[1])])\n",
    "    #kreiramo b i punimo 0\n",
    "    b = np.zeros(V.shape[0])\n",
    "    #dodajemo 1 na kraj\n",
    "    b[-1] = 1\n",
    "    #transponujemo\n",
    "    b = np.reshape(b, (b.shape[0], 1))\n",
    "    #punimo a\n",
    "    a = np.reshape(c, (-1, 1))\n",
    "    return a,b\n",
    "def svd_down(V, X):\n",
    "    #kreiramo b i punimo 0\n",
    "    b = np.zeros(V.shape[0])\n",
    "    b[-1] = 1\n",
    "    #transponujemo\n",
    "    b = np.reshape(b, (b.shape[0], 1))\n",
    "    #punimo a\n",
    "    a = np.reshape(np.multiply(X[:,-1], -1), (-1, 1))\n",
    "    return a,b\n",
    "def svd_rev(V,X, c):\n",
    "    #prosirujemo V\n",
    "    V = np.vstack([V, np.zeros(V.shape[1])])\n",
    "    #kreiramo b i punimo 0\n",
    "    b = np.zeros(V.shape[0])\n",
    "    b[-1] = 1\n",
    "    #transponujemo\n",
    "    b = np.reshape(b, (b.shape[0], 1))\n",
    "    #punimo a\n",
    "    a = np.reshape(X[:,-1] - c, (-1, 1))\n",
    "    return a,b\n",
    "def svd_recenter(V, X):\n",
    "    #kreiramo b i punimo 1\n",
    "    ones = np.ones(V.shape[1])\n",
    "    b = np.reshape(ones, (-1, 1))\n",
    "    #parametri potrebni za a\n",
    "    n = np.reshape(np.dot(np.transpose(V), b), (-1, 1))\n",
    "    q = b - np.dot(V, n)\n",
    "    #punimo a\n",
    "    a = np.reshape(np.multiply((-1/q), np.dot(X, b)), (-1, 1))\n",
    "    return a,b"
   ]
  },
  {
   "cell_type": "markdown",
   "metadata": {},
   "source": [
    "Pored toga potrebno nam je i:\n",
    "\n",
    "$m=U^T*a$\n",
    "\n",
    "$p=a-U*m$\n",
    "\n",
    "$Ra=||p||$\n",
    "\n",
    "$P=\\frac {p} {Ra}$\n",
    "\n",
    "$n=V^T*b$\n",
    "\n",
    "$q=b-V*n$\n",
    "\n",
    "$Rb=||q||\n",
    "\n",
    "$Q=\\frac {q} {Rb}$\n",
    "\n",
    "$K=\n",
    "\\begin{bmatrix}\n",
    "    S   &    0 \\\\\n",
    "    0   &   0 \\\\\n",
    "\\end{bmatrix}\n",
    "+\n",
    "\\begin{bmatrix}\n",
    "    m \\\\\n",
    "    ||p|| \\\\\n",
    "\\end{bmatrix}\n",
    "\\begin{bmatrix}\n",
    "    n \\\\\n",
    "    ||q|| \\\\\n",
    "\\end{bmatrix}^T$"
   ]
  },
  {
   "cell_type": "code",
   "execution_count": 4,
   "metadata": {
    "collapsed": true
   },
   "outputs": [],
   "source": [
    "def rediagonalization(U,S,V,a,b):\n",
    "    m = np.reshape(np.dot(np.transpose(U), a), (-1, 1))\n",
    "    p = np.reshape(a - np.dot(U, m), (-1, 1))\n",
    "    Ra = np.linalg.norm(p)\n",
    "    P = np.reshape(np.multiply((1 / Ra), p), (-1, 1))\n",
    "    n = np.reshape(np.dot(np.transpose(V), b), (-1, 1))\n",
    "    q = b - np.dot(V, n)\n",
    "    Rb = np.linalg.norm(q)\n",
    "    Q = np.reshape(np.multiply((1 / Rb), q), (-1, 1))\n",
    "\n",
    "    k = S\n",
    "    K = np.zeros((k.shape[0] + 1, k.shape[0] + 1))\n",
    "    K[:-1,:-1] = k\n",
    "    stack = np.vstack(np.append(m, Ra))\n",
    "    t = np.reshape(np.append(n, Rb), (1, -1))\n",
    "    dot = np.dot(stack, t)\n",
    "    K = np.add(K, dot)\n",
    "    return K"
   ]
  },
  {
   "cell_type": "code",
   "execution_count": 10,
   "metadata": {
    "collapsed": true
   },
   "outputs": [],
   "source": [
    "#op predstavlja operaciju koja se izvrsava\n",
    "#0-upd,1-dwn,2-rev,3-rec\n",
    "def svd(U,S,V,X,c=None,op=0):\n",
    "    if op==0:\n",
    "        if type(c)==type(np.array([])):\n",
    "            a, b = svd_upd(V, c)\n",
    "        else:\n",
    "            return None,None,None\n",
    "    elif op==1:\n",
    "        a, b = svd_down(V, X)\n",
    "    elif op==2:\n",
    "        if type(c)==type(np.array([])):\n",
    "            a, b = svd_rev(V, X, c)\n",
    "        else:\n",
    "            return None,None,None\n",
    "    elif op==3:\n",
    "        a, b = svd_recenter(V, X)\n",
    "    else:\n",
    "        return None,None,None\n",
    "    \n",
    "    k=rediagonalization(U,S,V,a,b)\n",
    "    \n",
    "    Sn, Vn=np.linalg.eig(k)\n",
    "    Sn=np.diag(Sn)\n",
    "    Un=np.transpose(np.linalg.inv(Vn))\n",
    "    \n",
    "    return Un, Sn, Vn"
   ]
  },
  {
   "cell_type": "code",
   "execution_count": 11,
   "metadata": {},
   "outputs": [
    {
     "data": {
      "text/plain": [
       "(array([[  1.10181930e+00,   1.43118595e+00,   4.54804969e-01,\n",
       "          -4.72161118e-17,   2.05038326e-16,   2.42044141e-31],\n",
       "        [  3.48694212e-01,   1.94555346e-01,   3.36993859e+00,\n",
       "           4.50926510e-01,   3.18953056e+00,   9.17523436e-16],\n",
       "        [  2.27385135e-01,   1.87962745e-01,  -8.13459948e-01,\n",
       "           6.51758509e-01,  -1.43387804e+00,   4.41487960e-16],\n",
       "        [  2.09571775e-01,  -3.14957548e-01,  -3.27299910e-01,\n",
       "          -7.48019572e-01,  -7.24956660e-01,  -1.75847108e-15],\n",
       "        [  3.16191765e-01,  -1.55388446e+00,  -2.68398370e+00,\n",
       "          -3.54665447e-01,  -1.03069587e+00,   3.99459689e-16],\n",
       "        [ -9.46381785e-17,   6.29435047e-16,  -7.14576585e-16,\n",
       "           1.95286599e-15,  -2.07786810e-15,   1.00000000e+00]]),\n",
       " array([[  4.08446734e+00,   0.00000000e+00,   0.00000000e+00,\n",
       "           0.00000000e+00,   0.00000000e+00,   0.00000000e+00],\n",
       "        [  0.00000000e+00,  -7.19313209e-01,   0.00000000e+00,\n",
       "           0.00000000e+00,   0.00000000e+00,   0.00000000e+00],\n",
       "        [  0.00000000e+00,   0.00000000e+00,  -9.33289708e-17,\n",
       "           0.00000000e+00,   0.00000000e+00,   0.00000000e+00],\n",
       "        [  0.00000000e+00,   0.00000000e+00,   0.00000000e+00,\n",
       "           1.54269903e-17,   0.00000000e+00,   0.00000000e+00],\n",
       "        [  0.00000000e+00,   0.00000000e+00,   0.00000000e+00,\n",
       "           0.00000000e+00,  -8.48219151e-17,   0.00000000e+00],\n",
       "        [  0.00000000e+00,   0.00000000e+00,   0.00000000e+00,\n",
       "           0.00000000e+00,   0.00000000e+00,  -2.56900633e-47]]),\n",
       " array([[  4.64319217e-01,   4.20811670e-01,  -2.50339439e-01,\n",
       "          -1.38856148e-01,   2.07700117e-01,   3.02922906e-16],\n",
       "        [  4.42932780e-01,  -4.33925742e-01,   2.92425432e-01,\n",
       "           2.26782131e-01,  -4.94566030e-02,  -2.16326213e-17],\n",
       "        [  4.41437488e-01,  -4.93687095e-01,   4.84105727e-01,\n",
       "           7.33535561e-01,  -6.33339106e-01,  -2.05004036e-15],\n",
       "        [  4.39498189e-01,  -5.71193744e-01,   7.32702799e-01,\n",
       "          -6.15014821e-01,  -7.00403581e-01,   6.70390208e-16],\n",
       "        [  4.47428769e-01,  -2.54237581e-01,  -2.83911580e-01,\n",
       "           1.13891111e-01,   2.50461788e-01,   2.97505802e-16],\n",
       "        [ -7.17544172e-18,  -2.86776071e-16,   9.19813879e-16,\n",
       "          -1.65890573e-15,  -1.00669965e-15,   1.00000000e+00]]))"
      ]
     },
     "execution_count": 11,
     "metadata": {},
     "output_type": "execute_result"
    }
   ],
   "source": [
    "Un, Sig, Vn = svd(U,S,V,X,c,op=0)\n",
    "Un, Sig, Vn"
   ]
  },
  {
   "cell_type": "code",
   "execution_count": 12,
   "metadata": {
    "collapsed": true
   },
   "outputs": [],
   "source": [
    "import time\n",
    "import pandas as pd\n",
    "\n",
    "RANK = 1\n",
    "N_COLS = 10\n",
    "\n",
    "def evaluate_svd(svd_fn, reconstruct_fn, min_rows=10, max_rows=50, n_samples=10, n_cols=N_COLS, rank=RANK, random_seed=0):\n",
    "    np.random.seed(random_seed)\n",
    "    elapsed_times = []\n",
    "    errors = []\n",
    "    n_rows_array = np.random.randint(low=min_rows, high=max_rows + 1, size=n_samples)\n",
    "    n_rows_array.sort()\n",
    "    \n",
    "    for n_rows in n_rows_array:\n",
    "        # construct a low-rank matrix\n",
    "        left = np.random.randn(n_rows, rank)\n",
    "        right = np.random.randn(rank, n_cols)\n",
    "        full = np.dot(left, right)\n",
    "\n",
    "        # how long does it take to perform the SVD?\n",
    "        start_t = time.time()\n",
    "        svd_outputs = svd_fn(full)\n",
    "        end_t = time.time()\n",
    "        elapsed_t = end_t - start_t\n",
    "        elapsed_times.append(elapsed_t)\n",
    "\n",
    "        # compute mean absolte error of reconstruction \n",
    "        reconstructed = reconstruct_fn(svd_outputs)\n",
    "        diff = full - reconstructed\n",
    "        mae = np.mean(np.abs(diff))\n",
    "        errors.append(mae)\n",
    "        print(\"n_rows=%d ==> time = %0.4f, MAE = %0.8f\" % (n_rows, elapsed_t, mae))\n",
    "    max_error = np.max(errors)\n",
    "    print(\"Max Error=%f\" % max_error)\n",
    "    assert max_error < 0.0000001\n",
    "    return n_rows_array, elapsed_times, errors \n",
    "\n",
    "def np_svd(X):\n",
    "    return np.linalg.svd(X, full_matrices=False, compute_uv=True)\n",
    "\n",
    "def np_inv_svd(svd_outputs):\n",
    "    U, s, V = svd_outputs\n",
    "    return np.dot(U, np.dot(np.diag(s), V))"
   ]
  },
  {
   "cell_type": "code",
   "execution_count": 13,
   "metadata": {},
   "outputs": [
    {
     "name": "stdout",
     "output_type": "stream",
     "text": [
      "n_rows=10 ==> time = 0.0000, MAE = 0.00000000\n",
      "n_rows=13 ==> time = 0.0010, MAE = 0.00000000\n",
      "n_rows=13 ==> time = 0.0000, MAE = 0.00000000\n",
      "n_rows=16 ==> time = 0.0000, MAE = 0.00000000\n",
      "n_rows=19 ==> time = 0.0000, MAE = 0.00000000\n",
      "n_rows=29 ==> time = 0.0000, MAE = 0.00000000\n",
      "n_rows=31 ==> time = 0.0000, MAE = 0.00000000\n",
      "n_rows=33 ==> time = 0.0000, MAE = 0.00000000\n",
      "n_rows=46 ==> time = 0.0000, MAE = 0.00000000\n",
      "n_rows=49 ==> time = 0.0000, MAE = 0.00000000\n",
      "Max Error=0.000000\n"
     ]
    }
   ],
   "source": [
    "n_rows, np_times, np_errors = evaluate_svd(np_svd, np_inv_svd)"
   ]
  },
  {
   "cell_type": "markdown",
   "metadata": {},
   "source": [
    "# Reference:\n",
    "1. Mladen Nikolić, Anđelka Zečević, <i>Naučno izračunavanje</i>, 2017, http://ni.matf.bg.ac.rs/materijali/ni.pdf\n",
    "\n",
    "2. Matthew Brand, <i>Fast low-rank modifications of the thin singular value decomposition</i>, 2006, http://www.sciencedirect.com/science/article/pii/S0024379505003812\n",
    "\n",
    "\n"
   ]
  }
 ],
 "metadata": {
  "kernelspec": {
   "display_name": "Python 3",
   "language": "python",
   "name": "python3"
  },
  "language_info": {
   "codemirror_mode": {
    "name": "ipython",
    "version": 3
   },
   "file_extension": ".py",
   "mimetype": "text/x-python",
   "name": "python",
   "nbconvert_exporter": "python",
   "pygments_lexer": "ipython3",
   "version": "3.6.1"
  }
 },
 "nbformat": 4,
 "nbformat_minor": 2
}
